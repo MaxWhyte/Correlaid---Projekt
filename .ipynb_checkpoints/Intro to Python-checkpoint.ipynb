{
 "cells": [
  {
   "cell_type": "markdown",
   "metadata": {},
   "source": [
    "### Introduction into Python Programming\n",
    "Welcome to this Introduction into Python Programming. This notebook was used as a live presentation during the CorrelAid Meetup 29.12. - 1.12.2019 hosted by CorrelAid (correlaid.org) in Berlin. \n",
    "Crafted and presented by Lisa G., Thomas H. and Max (https://github.com/MaxWhyte).\n",
    "\n",
    "The data/csv file that we used can be found here: https://github.com/MaxWhyte/Correlaid---Projekt/raw/master/party_in_nyc.csv\n",
    "\n",
    "The original data can be found here on Kaggle: https://www.kaggle.com/somesnm/partynyc\n",
    "\n",
    "Step-by-step tutorial on how to install Python/Anaconda can be found here: https://github.com/MaxWhyte/Correlaid---Projekt/blob/master/Intro%20to%20Python.pptx\n",
    "\n",
    "Most solutions to the exercises are included just as we solved them during the class, some have been altered by Max for better understanding. \n",
    "\n",
    "Have fun!"
   ]
  },
  {
   "cell_type": "markdown",
   "metadata": {},
   "source": [
    "++++++++++++++++++++++++++++++++++++++++++++++++++++++++++++++++++++++++++++++++++++++++++++++++++++++++++++++"
   ]
  },
  {
   "cell_type": "markdown",
   "metadata": {
    "colab_type": "text",
    "id": "XfMpBEzimkOY"
   },
   "source": [
    "## Hello World, hello CorrelAid :)\n",
    "\n",
    "Welcome to this jupyter notebook about basic python. These notebooks consist of cells which can contain text or code. To execute a cell (execute = make the text look nice or execute the python commands) press `Shift + Enter`. \n"
   ]
  },
  {
   "cell_type": "markdown",
   "metadata": {
    "colab_type": "text",
    "id": "b69lWhIOWUjz"
   },
   "source": [
    "The next cell prints a statement to our output cell. When working with scripts, and not notebooks, you will execute code in the terminal. This is also where the output will be shown. For more information about the differences between notebooks and scripts (.py files) look at X TODO"
   ]
  },
  {
   "cell_type": "code",
   "execution_count": null,
   "metadata": {
    "colab": {
     "base_uri": "https://localhost:8080/",
     "height": 34
    },
    "colab_type": "code",
    "id": "gGjiazqmWRTG",
    "outputId": "a41aa7a7-a1ae-41f9-ef64-b5cef13ec55a"
   },
   "outputs": [],
   "source": [
    "# This is a code cell\n",
    "# In python, comments are defined by the hash symbol, that's where we will write\n",
    "# useful comments or documentation. You can comment in/out a whole line by\n",
    "# pressing control/cmd + /\n",
    "\n",
    "print('Hello world!')"
   ]
  },
  {
   "cell_type": "code",
   "execution_count": null,
   "metadata": {
    "colab": {},
    "colab_type": "code",
    "id": "YN05kdO1Zj7A"
   },
   "outputs": [],
   "source": [
    "print(\"Hello folks\")"
   ]
  },
  {
   "cell_type": "code",
   "execution_count": null,
   "metadata": {
    "colab": {},
    "colab_type": "code",
    "id": "rYuYwr2rTvp_"
   },
   "outputs": [],
   "source": [
    "# Exercise: Greet the person sitting next to you by printing a statement\n",
    "print('Hey Lisa')"
   ]
  },
  {
   "cell_type": "markdown",
   "metadata": {
    "colab_type": "text",
    "id": "D8c-flwYmqqD"
   },
   "source": [
    "## Code constructs\n",
    "There are several constructs which are used in many programming languages. If you already know them, you/we can skip to the next section.\n",
    "\n",
    "1. Variables\n",
    "2. Lists & Indices\n",
    "3. Methods\n",
    "4. Conditions\n",
    "5. Loops\n",
    "6. imports"
   ]
  },
  {
   "cell_type": "markdown",
   "metadata": {
    "colab_type": "text",
    "id": "QFaTr_edWcjJ"
   },
   "source": [
    "#### - 1 -\n",
    "When coding, we often want to abstract a bit and use containers that can hold multiple contents depending on what we want to do. E.g. when we write code to add up two numbers, we might want to reuse that later on."
   ]
  },
  {
   "cell_type": "code",
   "execution_count": null,
   "metadata": {
    "colab": {
     "base_uri": "https://localhost:8080/",
     "height": 51
    },
    "colab_type": "code",
    "id": "7Vgo0zFmiYUD",
    "outputId": "090c4ede-d872-4ca4-c57e-5f63b3e12eb0"
   },
   "outputs": [],
   "source": [
    "# So instead of\n",
    "print(3 + 4)\n",
    "\n",
    "# we want to write\n",
    "a = 3\n",
    "b = 4\n",
    "print(a + b)"
   ]
  },
  {
   "cell_type": "markdown",
   "metadata": {
    "colab_type": "text",
    "id": "3SF3QLZsWiWt"
   },
   "source": [
    "Here, `a` and `b` are called variables. Variables are assigned to their content with the equal sign. The do not need to be numbers, but can be any python object like in the next lines."
   ]
  },
  {
   "cell_type": "code",
   "execution_count": null,
   "metadata": {
    "colab": {},
    "colab_type": "code",
    "id": "1sdrQtBdWAsq"
   },
   "outputs": [],
   "source": [
    "a = 'This is a string'\n",
    "b = 3.0 # This is a float = decimal numbers\n",
    "c = -3 # This is an int = integer number as before\n",
    "d = [\"This\", \"is\", \"a\", \"list\", \"with\", \"strings\"]\n",
    "e = True # This is a boolean = truth value, it can only contain True or False"
   ]
  },
  {
   "cell_type": "markdown",
   "metadata": {
    "colab_type": "text",
    "id": "i_wRa_f3X_LE"
   },
   "source": [
    "#### - 2 -\n",
    "Lists and other objects with several entries (e.g. numpy arrays, pandas dataframes) can be accessed as a whole, or single entries are retrieved. For this, we have to ask for the entry at a specific index. Indices in python start at `0` and end at `length of object - 1`. You can see an example below:\n",
    "```\n",
    "a = ['Entry one', 2, 'Three', '4', 5.0]\n",
    "Index:    0       1     2      3    4\n",
    "```\n",
    "For retrieval, square brackets are used.\n"
   ]
  },
  {
   "cell_type": "code",
   "execution_count": null,
   "metadata": {
    "colab": {
     "base_uri": "https://localhost:8080/",
     "height": 85
    },
    "colab_type": "code",
    "id": "ahoBgYBPY6MZ",
    "outputId": "502904ce-b0b4-4289-cea0-0daea1908c09"
   },
   "outputs": [],
   "source": [
    "print(d[0])\n",
    "print(d[4])\n",
    "\n",
    "# We can also access several entries at once\n",
    "print(d[2:5])\n",
    "print(d[0:])"
   ]
  },
  {
   "cell_type": "code",
   "execution_count": null,
   "metadata": {
    "colab": {},
    "colab_type": "code",
    "id": "Avx-o9C-Zeqd"
   },
   "outputs": [],
   "source": [
    "print(d[:-1])"
   ]
  },
  {
   "cell_type": "code",
   "execution_count": null,
   "metadata": {
    "colab": {
     "base_uri": "https://localhost:8080/",
     "height": 34
    },
    "colab_type": "code",
    "id": "9qbj6f0eZGwm",
    "outputId": "207c5389-d9ce-486c-a942-387730fdace7"
   },
   "outputs": [],
   "source": [
    "# Exercise: print the third until the second to last entry\n",
    "print(d[2:-2])"
   ]
  },
  {
   "cell_type": "markdown",
   "metadata": {
    "colab_type": "text",
    "id": "OMcmmOTNaujw"
   },
   "source": [
    "#### - 3 -\n",
    "To increase abstraction even more and save on redundancy, code can be summarized in a method. Methods consist of a head and a body. The head always starts with `def` followed by the name of the method. Then, an arbitrarily long list of variables can follow. Those need to be provided to the method when you want to use it.\n",
    "```\n",
    "def example_method(variable1, variable2)\n",
    "```\n",
    "\n",
    "The head is followed by a colon and then the body below it. All of the body has to be indented by one level (i.e. one tab or four spaces).\n",
    "\n",
    "\n",
    "```\n",
    "def example_method(variable1, variable2):\n",
    "  print('Hello')\n",
    "  print('World')\n",
    "```\n",
    "\n",
    "To use a method, you use its name (without the def and colon) and add the actual variables you want to put in. We have been doing did up to now with the print method, where we simply added the string that we want to have printed."
   ]
  },
  {
   "cell_type": "code",
   "execution_count": null,
   "metadata": {
    "colab": {},
    "colab_type": "code",
    "id": "aAh0muzPciil"
   },
   "outputs": [],
   "source": [
    "def example_method(variable1, variable2):\n",
    "    print('Variable1', variable1)\n",
    "    print('Variable2', variable2)"
   ]
  },
  {
   "cell_type": "code",
   "execution_count": null,
   "metadata": {
    "colab": {},
    "colab_type": "code",
    "id": "D3xMahhudDOW"
   },
   "outputs": [],
   "source": [
    "# Exercise: create a method that will add two variables and print them. Also use it at least once\n",
    "# (tip: don't use 'sum' as method name as python already has a function\n",
    "# with that name)\n",
    "def addition(var1, var2):\n",
    "    print(var1 + var2)\n",
    "    \n",
    "addition(3,4)"
   ]
  },
  {
   "cell_type": "markdown",
   "metadata": {
    "colab_type": "text",
    "id": "KtRJ_F5zdZ_5"
   },
   "source": [
    "You do not have to create all methods yourself, there is plenty of functionality that python already provides or that can be used through libraries/packages (point 6)."
   ]
  },
  {
   "cell_type": "code",
   "execution_count": null,
   "metadata": {
    "colab": {
     "base_uri": "https://localhost:8080/",
     "height": 34
    },
    "colab_type": "code",
    "id": "sJCHp8eNrLf1",
    "outputId": "7286985d-797d-47b9-c067-824c5f59901a"
   },
   "outputs": [],
   "source": [
    "# Example\n",
    "a = ['One', \"Two\"]\n",
    "\n",
    "# Add another element with the append method of list objects. Methods are\n",
    "# called by adding a dot behind your object and then the method name\n",
    "a.append('Three')\n",
    "print(a)"
   ]
  },
  {
   "cell_type": "markdown",
   "metadata": {
    "colab_type": "text",
    "id": "vBlMCkTarwsS"
   },
   "source": [
    "You can find more methods of list objects (or other python pre-made methods) here https://docs.python.org/3.6/tutorial/datastructures.html"
   ]
  },
  {
   "cell_type": "markdown",
   "metadata": {
    "colab_type": "text",
    "id": "UP0CVmYam4OG"
   },
   "source": [
    "### - 4 -\n",
    "If you want to build more complicated programs, you will want to add more program logic to it. That means, that the flow of your program - by default from top to bottom - might be changed, disrupted, branched into multiple possibilities etc. Image we want to calculate the sum of two numbers like we did before, but this time, we also want to add information about the outcome, e.g. whether the sum is negative or not.\n",
    "\n",
    "If you want to change code flow based on a condition, you can use if statements, if-else statements, or if-elif-else statements.\n",
    "\n",
    "\n",
    "\n",
    "```\n",
    "if sun == \"shining\":\n",
    "  print(\"Wear sunscreen!\")\n",
    "elif rain:\n",
    "  print(\"Don't forget your umbrella!\")\n",
    "else:\n",
    "  print(\"It is cloudy outside\")\n",
    "```\n",
    "\n"
   ]
  },
  {
   "cell_type": "code",
   "execution_count": null,
   "metadata": {
    "colab": {
     "base_uri": "https://localhost:8080/",
     "height": 34
    },
    "colab_type": "code",
    "id": "AUFIyr18u1tv",
    "outputId": "3a74bd63-a1bd-41f2-a327-081cb174b95e"
   },
   "outputs": [],
   "source": [
    "sun = 'hidden'\n",
    "rain = False\n",
    "if sun == \"shining\":\n",
    "    print(\"Wear sunscreen!\")\n",
    "elif rain:\n",
    "    print(\"Don't forget your umbrella!\")\n",
    "else:\n",
    "    print(\"It is cloudy outside\")"
   ]
  },
  {
   "cell_type": "code",
   "execution_count": null,
   "metadata": {
    "colab": {
     "base_uri": "https://localhost:8080/",
     "height": 34
    },
    "colab_type": "code",
    "id": "fSWnwydAmxVp",
    "outputId": "495a92d5-3220-48dd-8445-d9e66dbbcd35"
   },
   "outputs": [],
   "source": [
    "def addition(a,b):\n",
    "    if a+b < 0:\n",
    "        print('The outcome is',a+b,', it is negative')\n",
    "    else:\n",
    "        print('The outcome is',a+b,', it is positive')\n",
    "\n",
    "addition(3,-4)"
   ]
  },
  {
   "cell_type": "markdown",
   "metadata": {
    "colab_type": "text",
    "id": "OHxOs8vdncCK"
   },
   "source": [
    "### - 5 - \n",
    "Other ways to you might want to alter your program flow is by repeating a piece of it over and over again. E.g. you want to add a a number (with your sum method) to a list of multiple numbers. There are two type of loops in python, the for-loop and the while-loop\n",
    "```\n",
    "for element in list:\n",
    "  # do something\n",
    "\n",
    "for index in range(100):\n",
    "  #do something\n",
    "\n",
    "while boolean_value:\n",
    "  #do something\n",
    "```\n",
    "\n"
   ]
  },
  {
   "cell_type": "code",
   "execution_count": null,
   "metadata": {
    "colab": {
     "base_uri": "https://localhost:8080/",
     "height": 85
    },
    "colab_type": "code",
    "id": "pr8NBO-8w8bd",
    "outputId": "f9fdbfbd-d211-4397-c380-c33ce8e56311"
   },
   "outputs": [],
   "source": [
    "number_list = [10, 42, 5, 3]\n",
    "\n",
    "for number in [0,1,2,3]:\n",
    "    addition(100,number_list[number])"
   ]
  },
  {
   "cell_type": "code",
   "execution_count": null,
   "metadata": {
    "colab": {
     "base_uri": "https://localhost:8080/",
     "height": 119
    },
    "colab_type": "code",
    "id": "KuR8_AszxjLD",
    "outputId": "5441eaae-d7a4-4563-a1ba-cf8b5d2c29b9"
   },
   "outputs": [],
   "source": [
    "number_above_zero = True\n",
    "value = 10\n",
    "while number_above_zero:\n",
    "    value = value - 2\n",
    "    print(value)\n",
    "    if value < 0:\n",
    "        number_above_zero = False"
   ]
  },
  {
   "cell_type": "code",
   "execution_count": null,
   "metadata": {
    "colab": {
     "base_uri": "https://localhost:8080/",
     "height": 69
    },
    "colab_type": "code",
    "id": "WBG7s7tQndin",
    "outputId": "ee8ab6d6-5da4-49b4-dc8c-6b470b1c8325"
   },
   "outputs": [],
   "source": [
    "# Exercise: Go through the following list. For each iteration print the same\n",
    "# sentence inserted with the respective element\n",
    "\n",
    "to_do_list = [\"eat\", \"sleep\", \"code\"]\n",
    "\n",
    "for element in to_do_list:\n",
    "    print(\"Don't forget to \" + element + \"!\")"
   ]
  },
  {
   "cell_type": "markdown",
   "metadata": {
    "colab_type": "text",
    "id": "LxrnBdr9zfbK"
   },
   "source": [
    "### - 6 -\n",
    "As in other programming languages, the best part about using them is that many other people have come before us and build code already that is freely available. Similar functionalities are bundeled in so called packages (or libraries). If they do not belong to the standard python packages, you will need to install them using pip in our terminal like we did before\n",
    "```\n",
    "In terminal: pip install pandas\n",
    "\n",
    "In python: import pandas\n",
    "```\n",
    "You can give your imported packages shorter names so that it is easier to refer to them later on."
   ]
  },
  {
   "cell_type": "code",
   "execution_count": null,
   "metadata": {
    "colab": {},
    "colab_type": "code",
    "id": "IblBpqMmn_Y3"
   },
   "outputs": [],
   "source": [
    "import pandas as pd"
   ]
  },
  {
   "cell_type": "markdown",
   "metadata": {
    "colab_type": "text",
    "id": "lNyHMzTqn_ys"
   },
   "source": [
    "## All about that data\n",
    "Now that we have imported our data handling library pandas we can start loading some data and work with it"
   ]
  },
  {
   "cell_type": "code",
   "execution_count": null,
   "metadata": {
    "colab": {},
    "colab_type": "code",
    "id": "12OPbI79oCv0"
   },
   "outputs": [],
   "source": [
    "link_to_data = \"https://github.com/MaxWhyte/Correlaid---Projekt/raw/master/party_in_nyc.csv\"\n",
    "dataframe_object = pd.read_csv(link_to_data)"
   ]
  },
  {
   "cell_type": "markdown",
   "metadata": {
    "colab_type": "text",
    "id": "koAd7C2e275d"
   },
   "source": [
    "With this command we loaded a comma separated text file, but there are also other formats that pandas can load, you can check them out here https://pandas.pydata.org/pandas-docs/stable/user_guide/io.html \n",
    "\n",
    "Now let's take a look at what this data looks like with the `head` method."
   ]
  },
  {
   "cell_type": "code",
   "execution_count": null,
   "metadata": {
    "colab": {
     "base_uri": "https://localhost:8080/",
     "height": 204
    },
    "colab_type": "code",
    "id": "5qWw5ub2oacb",
    "outputId": "b72c3381-48b7-4fa4-f237-00102e0eac18"
   },
   "outputs": [],
   "source": [
    "dataframe_object.head()"
   ]
  },
  {
   "cell_type": "markdown",
   "metadata": {
    "colab_type": "text",
    "id": "1_Mixo6Ah8uO"
   },
   "source": [
    "The `head()` (and similarly the `tail()`) method shows us a part of the dataframe so that we can have a look at field names, field types and whether our dataframe is actually filled with what we expected or something went wrong along the way. To get more condensed information, we can also directly ask for the field names, types and number of entries using `info()`. Conveniently, there is also a method to display interesting metrics for the numeric values in our dataframe, like the average or maximum value. This is done with `describe()`. \n",
    "\n"
   ]
  },
  {
   "cell_type": "code",
   "execution_count": null,
   "metadata": {
    "colab": {},
    "colab_type": "code",
    "id": "SdWvyEf4Am7Z"
   },
   "outputs": [],
   "source": [
    "# we rename the data here because it's shorter :D\n",
    "df = dataframe_object"
   ]
  },
  {
   "cell_type": "markdown",
   "metadata": {
    "colab_type": "text",
    "id": "SuahDYKU3wzw"
   },
   "source": [
    "Going back to the `head()` and `tail()` command, we can also see the structure of dataframes: on the left we have the indices of every data point, on the top the fields of each data point are named (both in bold). These field names can also be used to retrieve information, like we did before with indices."
   ]
  },
  {
   "cell_type": "code",
   "execution_count": null,
   "metadata": {
    "colab": {
     "base_uri": "https://localhost:8080/",
     "height": 221
    },
    "colab_type": "code",
    "id": "qCvXJqwMqoSf",
    "outputId": "d8cb3b7f-18a8-473a-da60-6a6933684b3c"
   },
   "outputs": [],
   "source": [
    "df['Borough']"
   ]
  },
  {
   "cell_type": "markdown",
   "metadata": {
    "colab_type": "text",
    "id": "VGMrloFq4Yvd"
   },
   "source": [
    "The output of the previous code cell or the `info()` and `describe()` command also show the size of our dataset below the compressed version of the city data. If we want to find out the size (or length in case of lists) of objects, we can use the `len` method. Alternatively, there is also the `shape` method, which does not work with lists but pandas dataframes, numpy arrays or tensors (which might or might not be interesting for you later on).\n",
    "\n"
   ]
  },
  {
   "cell_type": "code",
   "execution_count": null,
   "metadata": {
    "colab": {
     "base_uri": "https://localhost:8080/",
     "height": 68
    },
    "colab_type": "code",
    "id": "qolWXEMoqrai",
    "outputId": "ed912a0c-81b2-40cd-c4ea-5e60f4e9a167"
   },
   "outputs": [],
   "source": [
    "print(len(df))\n",
    "print(df.shape)\n",
    "print(df.shape[0])"
   ]
  },
  {
   "cell_type": "markdown",
   "metadata": {
    "colab_type": "text",
    "id": "2h2LA9_I57zR"
   },
   "source": [
    "By the way, the shape command will return the rows and columns of the dataframe (because it is 2D, there are 2 entries). This is also the order for accessing 2D objects through indices. The German monkey bridge (=mnemonic rhyme) for this is 'rows first, columns later' = 'Zeilen zuerst, Spalten später'.\n",
    "\n",
    "When working with data, you might want to look only at a subset of the whole data e.g. to compare two different districts with each other. For this, you add the condition that you want to check for (similar to what you write in your if-statement) in square brackets."
   ]
  },
  {
   "cell_type": "code",
   "execution_count": null,
   "metadata": {
    "colab": {
     "base_uri": "https://localhost:8080/",
     "height": 153
    },
    "colab_type": "code",
    "id": "rxdobnxsANjn",
    "outputId": "a1a28c0f-3526-48ac-d18f-3d0b61b78fee"
   },
   "outputs": [],
   "source": [
    "selection = df[df['Location Type'] == 'Park/Playground']\n",
    "print(selection.head())"
   ]
  },
  {
   "cell_type": "code",
   "execution_count": null,
   "metadata": {
    "colab": {
     "base_uri": "https://localhost:8080/",
     "height": 153
    },
    "colab_type": "code",
    "id": "GEVTKeYjqsRI",
    "outputId": "84612959-f78a-4437-a4ba-59cf73acefa4"
   },
   "outputs": [],
   "source": [
    "queens = df[df['Borough'] == 'QUEENS']\n",
    "print(queens.head())"
   ]
  },
  {
   "cell_type": "code",
   "execution_count": null,
   "metadata": {
    "colab": {
     "base_uri": "https://localhost:8080/",
     "height": 34
    },
    "colab_type": "code",
    "id": "N7We4kVDA5ej",
    "outputId": "d87a9452-263f-41d0-a263-1829a303bfe7"
   },
   "outputs": [],
   "source": [
    "# Exercise: Create a selection of data points from Manhattan and look\n",
    "# at the size of both selections to see whether they are different or equal\n",
    "\n",
    "\n",
    "manhattan = df[df['Borough'] == 'MANHATTAN']\n",
    "print(len(manhattan), len(queens))"
   ]
  },
  {
   "cell_type": "markdown",
   "metadata": {
    "colab_type": "text",
    "id": "KFpSxf_ioEBE"
   },
   "source": [
    "## A picture says more than thousand words\n",
    "The most common - but maybe also the least compact - visualization library in python is called matplotlib. While you can plot through it directly, e.g.\n",
    "```\n",
    "plt.plot([2000,2001,2003,2004], [365,365,365,366]) # first x, then y axis\n",
    "plt.show() # needs to be added in order for the plot to show\n",
    "```\n",
    "pandas also supports plotting through its own methods. \n"
   ]
  },
  {
   "cell_type": "code",
   "execution_count": null,
   "metadata": {
    "colab": {
     "base_uri": "https://localhost:8080/",
     "height": 269
    },
    "colab_type": "code",
    "id": "GBw-DEjfrBlo",
    "outputId": "5aad076b-571a-46a6-f378-56710159196d"
   },
   "outputs": [],
   "source": [
    "import matplotlib.pyplot as plt\n",
    "df['Location Type'].hist()\n",
    "plt.show()"
   ]
  },
  {
   "cell_type": "markdown",
   "metadata": {
    "colab_type": "text",
    "id": "wn_KOuktl0z-"
   },
   "source": [
    "From the first call of the plotting command there is often some way to go before the graph looks presentable. However, the general trend is often already visible, so it is nice that we can easily plot a lot of things to just explore what interesting details lie in our data. In the following cell, we show a suggestion for how to modify the plotting command if we were to present the outcome to someone."
   ]
  },
  {
   "cell_type": "code",
   "execution_count": null,
   "metadata": {
    "colab": {
     "base_uri": "https://localhost:8080/",
     "height": 573
    },
    "colab_type": "code",
    "id": "-5gXAN2sl0Kh",
    "outputId": "09f08133-91c2-4581-e5d8-fd06bc418ed5"
   },
   "outputs": [],
   "source": [
    "# The following line defines the overall look of the graph. You can always\n",
    "# change individual aspects of the graph as well, like the bar color, font,\n",
    "# size of the grid etc, but to get the general direction for the look you can\n",
    "# choose the styles from here https://matplotlib.org/3.1.1/gallery/style_sheets/style_sheets_reference.html \n",
    "plt.style.use('seaborn-whitegrid')\n",
    "# Instead of using a histogram, we can also use a bar chart of the counts per \n",
    "# unique value (= a histogram). The advantage is that we do not have to rotate\n",
    "# the label text ourselves and that the bars are orderable\n",
    "df[\"Location Type\"].value_counts(ascending=False).plot(kind=\"bar\",figsize=(14,6), title=\"Number of calls by Location\")\n",
    "plt.show()"
   ]
  },
  {
   "cell_type": "code",
   "execution_count": null,
   "metadata": {
    "colab": {
     "base_uri": "https://localhost:8080/",
     "height": 282
    },
    "colab_type": "code",
    "id": "2xbSIW-TGCB_",
    "outputId": "8cb85745-e586-4b3e-b20d-e62c609be99b"
   },
   "outputs": [],
   "source": [
    "# Exercise: This exercise was a bit more useful with the first dataset we had,\n",
    "# but just for practice sake: remember the district data we selected? Now it's\n",
    "# time to use it. Below, show two latitude histograms in one plot, one for\n",
    "# Manhattan and one for Queens. Tip: the parameter alpha=0.X can be used\n",
    "# throughout several plotting commands to make the lines/areas more transparent,\n",
    "# this way, overlaps are better visible\n",
    "\n",
    "manhattan['Latitude'].hist(alpha=0.5)\n",
    "queens['Latitude'].hist(alpha=0.5)\n",
    "plt.show()"
   ]
  },
  {
   "cell_type": "markdown",
   "metadata": {
    "colab_type": "text",
    "id": "7MkJHFpARZga"
   },
   "source": [
    "Data can be of many different formats, were some are very common so that pandas has some inbuilt functions to cope with that. In the following, we will convert the date string of when the incidents were occured to a easily handable format."
   ]
  },
  {
   "cell_type": "code",
   "execution_count": null,
   "metadata": {
    "colab": {
     "base_uri": "https://localhost:8080/",
     "height": 52
    },
    "colab_type": "code",
    "id": "Lr5olfRGrbVr",
    "outputId": "725659e8-d162-48c9-90c4-f7053112c754"
   },
   "outputs": [],
   "source": [
    "dates_created = pd.to_datetime([date for date in df[\"Created Date\"]])#\n",
    "# We can now call specific attributes more easily\n",
    "minutes = dates_created.minute # we grab only the minutes from dates_created"
   ]
  },
  {
   "cell_type": "code",
   "execution_count": null,
   "metadata": {
    "colab": {
     "base_uri": "https://localhost:8080/",
     "height": 52
    },
    "colab_type": "code",
    "id": "Lr5olfRGrbVr",
    "outputId": "725659e8-d162-48c9-90c4-f7053112c754"
   },
   "outputs": [],
   "source": [
    "weekdays = dates_created.dayofweek  # we grab only the weekday from dates_created\n",
    "print(minutes[:10])\n",
    "print(weekdays[:10])"
   ]
  },
  {
   "cell_type": "code",
   "execution_count": null,
   "metadata": {
    "colab": {
     "base_uri": "https://localhost:8080/",
     "height": 442
    },
    "colab_type": "code",
    "id": "Q7wBEq0xrjfI",
    "outputId": "5971279a-0cc8-4702-c255-3f8cc06d65c2"
   },
   "outputs": [],
   "source": [
    "#Exercise: can you find out what variable needs to be from the rest of the code?\n",
    "variable = ? # Find \"?\"! If found, please delete or comment out this line, otherwise you will get an error message\n",
    "variable = dates_created.hour # That's the solution\n",
    "\n",
    "variable.value_counts(sort=False).plot(figsize=(14,6), title=\"Number of calls by hour\")\n",
    "plt.ylabel(\"# of calls\")\n",
    "\n",
    "days_names = ['Night','Morning','Midday','Afternoon','Evening']\n",
    "days_numbers = [2.5,9,12,16,20]\n",
    "plt.xticks(days_numbers, days_names, rotation='45')\n",
    "plt.show()"
   ]
  },
  {
   "cell_type": "markdown",
   "metadata": {
    "colab": {},
    "colab_type": "code",
    "id": "98lTQF6jHGXM"
   },
   "source": [
    "## Extra hints"
   ]
  },
  {
   "cell_type": "markdown",
   "metadata": {},
   "source": [
    "### Datastructures\n",
    "Next to list, two common datastructures are dictionaries and tuples. Dictionaries could be defined as a list where every entry is a pair of the name of the entry and its content (key, value). Dictionaries do not have an order and cannot be indexed therefore. Below you can see an example of a dict with dicts as contents (a nested dict).\n",
    "```\n",
    "my_dict = {\"party1\": {\"time\": 19:00, \"place\":Manhattan}, \"party2\": {\"time\": 21:30, \"place\":Queens}}\n",
    "```\n",
    "Tuples are combination of entries between round brackets, for example a coordinate could be stored inside a tuple ` t = (10,207)`. Tuples are ordered and can be indexed."
   ]
  },
  {
   "cell_type": "markdown",
   "metadata": {},
   "source": [
    "### Helpful libraries\n",
    "For maths and easy data handling of all numeric data, including matric multiplication and such, use numpy (often abbreviated np).\n",
    "There are a lot of classic machine learning algorithms (regression, clustering, SVM, etc.) in the scikit-learn library (called scipy in python files).\n",
    "If you want to dive into deep learning, the top-level go-to library would be Keras (with tensorflow as backend). Tensorflow itself is in the opinion of the author of this notebook a bit more complicated than necessary. PyTorch is a worthy competitor in terms of a lower-level library, which is more easily adaptable. These three have huge communities and ressources."
   ]
  },
  {
   "cell_type": "markdown",
   "metadata": {},
   "source": [
    "### Storage\n",
    "If you want to store something, you can look a the pandas methods for that. This site has a list of (general) storage formats https://exceptionshub.com/how-to-store-a-dataframe-using-pandas.html and some minimal examples."
   ]
  },
  {
   "cell_type": "markdown",
   "metadata": {},
   "source": [
    "### Running python outside of a notebook\n",
    "Your python code may not always come in a notebook. For running .py files, there are some things to keep in mind. Call them with `python my_file.py`. This will execute all content in the file that is not a method or class. This way, you can first define your methods and later write the actually commands you want to have executed below. It also means you will not execute anything if you only have methods and classes. Why you would want to do that? Maybe you have a lot of methods and want to sort them under their functionality, e.g. number_methods.py, image_methods.py, my_script.py (for the execution). Make sure you import the two utility files in my_script.py and call `python my_script.py`."
   ]
  },
  {
   "cell_type": "markdown",
   "metadata": {},
   "source": [
    "### A propos classes\n",
    "You can have classes, but you don't have to. Here are some minimal examples https://www.w3schools.com/python/python_classes.asp"
   ]
  },
  {
   "cell_type": "code",
   "execution_count": null,
   "metadata": {},
   "outputs": [],
   "source": []
  }
 ],
 "metadata": {
  "colab": {
   "collapsed_sections": [],
   "name": "Python 101.ipynb",
   "provenance": []
  },
  "kernelspec": {
   "display_name": "Python 3",
   "language": "python",
   "name": "python3"
  },
  "language_info": {
   "codemirror_mode": {
    "name": "ipython",
    "version": 3
   },
   "file_extension": ".py",
   "mimetype": "text/x-python",
   "name": "python",
   "nbconvert_exporter": "python",
   "pygments_lexer": "ipython3",
   "version": "3.7.4"
  }
 },
 "nbformat": 4,
 "nbformat_minor": 1
}
