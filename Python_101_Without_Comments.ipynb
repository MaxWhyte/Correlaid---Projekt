{
 "cells": [
  {
   "cell_type": "markdown",
   "metadata": {
    "colab_type": "text",
    "id": "XfMpBEzimkOY"
   },
   "source": [
    "## Hello World, hello CorrelAid :)\n",
    "\n",
    "Welcome to this jupyter notebook about basic python. These notebooks consist of cells which can contain text or code. To execute a cell (execute = make the text look nice or execute the python commands) press `Shift + Enter`. \n"
   ]
  },
  {
   "cell_type": "code",
   "execution_count": 1,
   "metadata": {
    "colab": {
     "base_uri": "https://localhost:8080/",
     "height": 34
    },
    "colab_type": "code",
    "id": "gGjiazqmWRTG",
    "outputId": "a41aa7a7-a1ae-41f9-ef64-b5cef13ec55a"
   },
   "outputs": [
    {
     "name": "stdout",
     "output_type": "stream",
     "text": [
      "Hello world!\n"
     ]
    }
   ],
   "source": [
    "print('Hello world!')"
   ]
  },
  {
   "cell_type": "code",
   "execution_count": 2,
   "metadata": {
    "colab": {},
    "colab_type": "code",
    "id": "rYuYwr2rTvp_"
   },
   "outputs": [
    {
     "name": "stdout",
     "output_type": "stream",
     "text": [
      "Hallo, Tine!\n"
     ]
    }
   ],
   "source": [
    "# Exercise: Greet the person sitting next to you by printing a statement\n",
    "print(\"Hallo, Tine!\")"
   ]
  },
  {
   "cell_type": "markdown",
   "metadata": {
    "colab_type": "text",
    "id": "D8c-flwYmqqD"
   },
   "source": [
    "## Code constructs\n",
    "There are several constructs which are used in many programming languages. If you already know them, you/we can skip to the next section.\n",
    "\n",
    "1. Variables\n",
    "2. Lists & Indices\n",
    "3. Methods\n",
    "4. Conditions\n",
    "5. Loops\n",
    "6. imports"
   ]
  },
  {
   "cell_type": "markdown",
   "metadata": {
    "colab_type": "text",
    "id": "QFaTr_edWcjJ"
   },
   "source": [
    "#### - 1 -"
   ]
  },
  {
   "cell_type": "code",
   "execution_count": 3,
   "metadata": {
    "colab": {
     "base_uri": "https://localhost:8080/",
     "height": 51
    },
    "colab_type": "code",
    "id": "7Vgo0zFmiYUD",
    "outputId": "090c4ede-d872-4ca4-c57e-5f63b3e12eb0"
   },
   "outputs": [
    {
     "name": "stdout",
     "output_type": "stream",
     "text": [
      "7\n",
      "7\n"
     ]
    }
   ],
   "source": [
    "# So instead of\n",
    "print(3 + 4)\n",
    "\n",
    "# we want to write\n",
    "a = 3\n",
    "b = 4\n",
    "print(a + b)"
   ]
  },
  {
   "cell_type": "code",
   "execution_count": 5,
   "metadata": {
    "colab": {},
    "colab_type": "code",
    "id": "1sdrQtBdWAsq"
   },
   "outputs": [],
   "source": [
    "a = 'This is a string'\n",
    "b = 3.0 # This is a float = decimal numbers\n",
    "c = -3 # This is an int = integer number as before\n",
    "d = [\"This\", \"is\", \"a\", \"list\", \"with\", \"strings\"]\n",
    "e = True # This is a boolean = truth value, it can only contain True or False"
   ]
  },
  {
   "cell_type": "markdown",
   "metadata": {
    "colab_type": "text",
    "id": "i_wRa_f3X_LE"
   },
   "source": [
    "#### - 2 -"
   ]
  },
  {
   "cell_type": "code",
   "execution_count": 9,
   "metadata": {
    "colab": {
     "base_uri": "https://localhost:8080/",
     "height": 85
    },
    "colab_type": "code",
    "id": "ahoBgYBPY6MZ",
    "outputId": "502904ce-b0b4-4289-cea0-0daea1908c09"
   },
   "outputs": [
    {
     "name": "stdout",
     "output_type": "stream",
     "text": [
      "This\n",
      "with\n",
      "['a', 'list', 'with']\n",
      "['This', 'is', 'a', 'list', 'with', 'strings']\n",
      "with\n"
     ]
    }
   ],
   "source": [
    "print(d[0])\n",
    "print(d[4])\n",
    "\n",
    "# We can also access several entries at once\n",
    "print(d[2:5])\n",
    "print(d[0:])\n",
    "print(d[-2])"
   ]
  },
  {
   "cell_type": "code",
   "execution_count": 10,
   "metadata": {
    "colab": {
     "base_uri": "https://localhost:8080/",
     "height": 34
    },
    "colab_type": "code",
    "id": "9qbj6f0eZGwm",
    "outputId": "207c5389-d9ce-486c-a942-387730fdace7"
   },
   "outputs": [
    {
     "name": "stdout",
     "output_type": "stream",
     "text": [
      "['a', 'list']\n"
     ]
    }
   ],
   "source": [
    "# Exercise: print the third until the second to last entry\n",
    "print(d[2:-2])"
   ]
  },
  {
   "cell_type": "markdown",
   "metadata": {
    "colab_type": "text",
    "id": "OMcmmOTNaujw"
   },
   "source": [
    "#### - 3 -"
   ]
  },
  {
   "cell_type": "code",
   "execution_count": 12,
   "metadata": {
    "colab": {},
    "colab_type": "code",
    "id": "D3xMahhudDOW"
   },
   "outputs": [],
   "source": [
    "# Exercise: create a method that will add two variables and print them. Also use it at least once\n",
    "# (tip: don't use 'sum' as method name as python already has a function\n",
    "# with that name)\n",
    "def my_method(var1, var2):\n",
    "    print(\"Hey\", var1)\n",
    "    print(\"Ho\", var2)"
   ]
  },
  {
   "cell_type": "code",
   "execution_count": 13,
   "metadata": {},
   "outputs": [
    {
     "name": "stdout",
     "output_type": "stream",
     "text": [
      "Hey Yolo\n",
      "Ho ASDF\n"
     ]
    }
   ],
   "source": [
    "my_method(\"Yolo\", \"ASDF\")"
   ]
  },
  {
   "cell_type": "code",
   "execution_count": 14,
   "metadata": {},
   "outputs": [
    {
     "name": "stdout",
     "output_type": "stream",
     "text": [
      "8\n"
     ]
    }
   ],
   "source": [
    "def add(a, b):\n",
    "    print(a + b)\n",
    "    \n",
    "add(2,6)"
   ]
  },
  {
   "cell_type": "code",
   "execution_count": 16,
   "metadata": {
    "colab": {
     "base_uri": "https://localhost:8080/",
     "height": 34
    },
    "colab_type": "code",
    "id": "sJCHp8eNrLf1",
    "outputId": "7286985d-797d-47b9-c067-824c5f59901a"
   },
   "outputs": [
    {
     "name": "stdout",
     "output_type": "stream",
     "text": [
      "['One', 'Two', 'Three']\n"
     ]
    }
   ],
   "source": [
    "# Example\n",
    "a = ['One', \"Two\"]\n",
    "\n",
    "# Add another element with the append method of list objects. Methods are\n",
    "# called by adding a dot behind your object and then the method name\n",
    "a.append('Three')\n",
    "print(a)"
   ]
  },
  {
   "cell_type": "markdown",
   "metadata": {
    "colab_type": "text",
    "id": "UP0CVmYam4OG"
   },
   "source": [
    "### - 4 -"
   ]
  },
  {
   "cell_type": "code",
   "execution_count": 17,
   "metadata": {
    "colab": {
     "base_uri": "https://localhost:8080/",
     "height": 34
    },
    "colab_type": "code",
    "id": "AUFIyr18u1tv",
    "outputId": "3a74bd63-a1bd-41f2-a327-081cb174b95e"
   },
   "outputs": [
    {
     "name": "stdout",
     "output_type": "stream",
     "text": [
      "It is cloudy outside\n"
     ]
    }
   ],
   "source": [
    "sun = 'hidden'\n",
    "rain = False\n",
    "if sun == \"shining\":\n",
    "    print(\"Wear sunscreen!\")\n",
    "elif rain:\n",
    "    print(\"Don't forget your umbrella!\")\n",
    "else:\n",
    "    print(\"It is cloudy outside\")"
   ]
  },
  {
   "cell_type": "code",
   "execution_count": 18,
   "metadata": {
    "colab": {
     "base_uri": "https://localhost:8080/",
     "height": 34
    },
    "colab_type": "code",
    "id": "fSWnwydAmxVp",
    "outputId": "495a92d5-3220-48dd-8445-d9e66dbbcd35"
   },
   "outputs": [
    {
     "name": "stdout",
     "output_type": "stream",
     "text": [
      "The outcome is -1 , it is negative\n"
     ]
    }
   ],
   "source": [
    "def addition(a,b):\n",
    "    if a+b < 0:\n",
    "        print('The outcome is',a+b,', it is negative')\n",
    "    else:\n",
    "        print('The outcome is',a+b,', it is positive')\n",
    "\n",
    "addition(3,-4)"
   ]
  },
  {
   "cell_type": "markdown",
   "metadata": {
    "colab_type": "text",
    "id": "OHxOs8vdncCK"
   },
   "source": [
    "### - 5 - "
   ]
  },
  {
   "cell_type": "code",
   "execution_count": 23,
   "metadata": {
    "colab": {
     "base_uri": "https://localhost:8080/",
     "height": 85
    },
    "colab_type": "code",
    "id": "pr8NBO-8w8bd",
    "outputId": "f9fdbfbd-d211-4397-c380-c33ce8e56311"
   },
   "outputs": [
    {
     "name": "stdout",
     "output_type": "stream",
     "text": [
      "The outcome is 110 , it is positive\n",
      "The outcome is 142 , it is positive\n",
      "The outcome is 105 , it is positive\n",
      "The outcome is 103 , it is positive\n"
     ]
    }
   ],
   "source": [
    "number_list = [10, 42, 5 , 3]\n",
    "\n",
    "for idx in range(4):\n",
    "    addition(100,number_list[idx])"
   ]
  },
  {
   "cell_type": "code",
   "execution_count": 22,
   "metadata": {
    "colab": {
     "base_uri": "https://localhost:8080/",
     "height": 69
    },
    "colab_type": "code",
    "id": "WBG7s7tQndin",
    "outputId": "ee8ab6d6-5da4-49b4-dc8c-6b470b1c8325"
   },
   "outputs": [
    {
     "name": "stdout",
     "output_type": "stream",
     "text": [
      "eat\n",
      "sleep\n",
      "code\n",
      "repeat\n"
     ]
    }
   ],
   "source": [
    "# Exercise: Go through the following list. For each iteration print the same\n",
    "# sentence inserted with the respective element\n",
    "todo = [\"eat\", \"sleep\", \"code\"]\n",
    "bedingung= True\n",
    "idx = 0\n",
    "\n",
    "while bedingung:\n",
    "    print(todo[idx])\n",
    "    if idx == 2:\n",
    "        print(\"repeat\")\n",
    "        bedingung = False\n",
    "    idx += 1\n"
   ]
  },
  {
   "cell_type": "markdown",
   "metadata": {
    "colab_type": "text",
    "id": "LxrnBdr9zfbK"
   },
   "source": [
    "### - 6 -"
   ]
  },
  {
   "cell_type": "code",
   "execution_count": 24,
   "metadata": {
    "colab": {},
    "colab_type": "code",
    "id": "IblBpqMmn_Y3"
   },
   "outputs": [],
   "source": [
    "import pandas as pd"
   ]
  },
  {
   "cell_type": "markdown",
   "metadata": {
    "colab_type": "text",
    "id": "lNyHMzTqn_ys"
   },
   "source": [
    "## All about that data"
   ]
  },
  {
   "cell_type": "code",
   "execution_count": 25,
   "metadata": {
    "colab": {},
    "colab_type": "code",
    "id": "12OPbI79oCv0"
   },
   "outputs": [],
   "source": [
    "link_to_data = \"https://github.com/MaxWhyte/Data-Visualisation-Population-vs-Crime-rate-in-German-Cities/raw/master/party_in_nyc.csv\"\n",
    "dataframe_object = pd.read_csv(link_to_data)"
   ]
  },
  {
   "cell_type": "code",
   "execution_count": 26,
   "metadata": {
    "colab": {},
    "colab_type": "code",
    "id": "SdWvyEf4Am7Z"
   },
   "outputs": [],
   "source": [
    "# we rename the data here because it's shorter :D\n",
    "df = dataframe_object"
   ]
  },
  {
   "cell_type": "code",
   "execution_count": 27,
   "metadata": {},
   "outputs": [
    {
     "data": {
      "text/html": [
       "<div>\n",
       "<style scoped>\n",
       "    .dataframe tbody tr th:only-of-type {\n",
       "        vertical-align: middle;\n",
       "    }\n",
       "\n",
       "    .dataframe tbody tr th {\n",
       "        vertical-align: top;\n",
       "    }\n",
       "\n",
       "    .dataframe thead th {\n",
       "        text-align: right;\n",
       "    }\n",
       "</style>\n",
       "<table border=\"1\" class=\"dataframe\">\n",
       "  <thead>\n",
       "    <tr style=\"text-align: right;\">\n",
       "      <th></th>\n",
       "      <th>Created Date</th>\n",
       "      <th>Closed Date</th>\n",
       "      <th>Location Type</th>\n",
       "      <th>Incident Zip</th>\n",
       "      <th>City</th>\n",
       "      <th>Borough</th>\n",
       "      <th>Latitude</th>\n",
       "      <th>Longitude</th>\n",
       "    </tr>\n",
       "  </thead>\n",
       "  <tbody>\n",
       "    <tr>\n",
       "      <th>0</th>\n",
       "      <td>2015-12-31 00:01:15</td>\n",
       "      <td>2015-12-31 03:48:04</td>\n",
       "      <td>Store/Commercial</td>\n",
       "      <td>10034.0</td>\n",
       "      <td>NEW YORK</td>\n",
       "      <td>MANHATTAN</td>\n",
       "      <td>40.866183</td>\n",
       "      <td>-73.918930</td>\n",
       "    </tr>\n",
       "    <tr>\n",
       "      <th>1</th>\n",
       "      <td>2015-12-31 00:02:48</td>\n",
       "      <td>2015-12-31 04:36:13</td>\n",
       "      <td>Store/Commercial</td>\n",
       "      <td>10040.0</td>\n",
       "      <td>NEW YORK</td>\n",
       "      <td>MANHATTAN</td>\n",
       "      <td>40.859324</td>\n",
       "      <td>-73.931237</td>\n",
       "    </tr>\n",
       "    <tr>\n",
       "      <th>2</th>\n",
       "      <td>2015-12-31 00:03:25</td>\n",
       "      <td>2015-12-31 00:40:15</td>\n",
       "      <td>Residential Building/House</td>\n",
       "      <td>10026.0</td>\n",
       "      <td>NEW YORK</td>\n",
       "      <td>MANHATTAN</td>\n",
       "      <td>40.799415</td>\n",
       "      <td>-73.953371</td>\n",
       "    </tr>\n",
       "    <tr>\n",
       "      <th>3</th>\n",
       "      <td>2015-12-31 00:03:26</td>\n",
       "      <td>2015-12-31 01:53:38</td>\n",
       "      <td>Residential Building/House</td>\n",
       "      <td>11231.0</td>\n",
       "      <td>BROOKLYN</td>\n",
       "      <td>BROOKLYN</td>\n",
       "      <td>40.678285</td>\n",
       "      <td>-73.994668</td>\n",
       "    </tr>\n",
       "    <tr>\n",
       "      <th>4</th>\n",
       "      <td>2015-12-31 00:05:10</td>\n",
       "      <td>2015-12-31 03:49:10</td>\n",
       "      <td>Residential Building/House</td>\n",
       "      <td>10033.0</td>\n",
       "      <td>NEW YORK</td>\n",
       "      <td>MANHATTAN</td>\n",
       "      <td>40.850304</td>\n",
       "      <td>-73.938516</td>\n",
       "    </tr>\n",
       "  </tbody>\n",
       "</table>\n",
       "</div>"
      ],
      "text/plain": [
       "          Created Date          Closed Date               Location Type  \\\n",
       "0  2015-12-31 00:01:15  2015-12-31 03:48:04            Store/Commercial   \n",
       "1  2015-12-31 00:02:48  2015-12-31 04:36:13            Store/Commercial   \n",
       "2  2015-12-31 00:03:25  2015-12-31 00:40:15  Residential Building/House   \n",
       "3  2015-12-31 00:03:26  2015-12-31 01:53:38  Residential Building/House   \n",
       "4  2015-12-31 00:05:10  2015-12-31 03:49:10  Residential Building/House   \n",
       "\n",
       "   Incident Zip      City    Borough   Latitude  Longitude  \n",
       "0       10034.0  NEW YORK  MANHATTAN  40.866183 -73.918930  \n",
       "1       10040.0  NEW YORK  MANHATTAN  40.859324 -73.931237  \n",
       "2       10026.0  NEW YORK  MANHATTAN  40.799415 -73.953371  \n",
       "3       11231.0  BROOKLYN   BROOKLYN  40.678285 -73.994668  \n",
       "4       10033.0  NEW YORK  MANHATTAN  40.850304 -73.938516  "
      ]
     },
     "execution_count": 27,
     "metadata": {},
     "output_type": "execute_result"
    }
   ],
   "source": [
    "df.head()"
   ]
  },
  {
   "cell_type": "code",
   "execution_count": 28,
   "metadata": {},
   "outputs": [
    {
     "data": {
      "text/html": [
       "<div>\n",
       "<style scoped>\n",
       "    .dataframe tbody tr th:only-of-type {\n",
       "        vertical-align: middle;\n",
       "    }\n",
       "\n",
       "    .dataframe tbody tr th {\n",
       "        vertical-align: top;\n",
       "    }\n",
       "\n",
       "    .dataframe thead th {\n",
       "        text-align: right;\n",
       "    }\n",
       "</style>\n",
       "<table border=\"1\" class=\"dataframe\">\n",
       "  <thead>\n",
       "    <tr style=\"text-align: right;\">\n",
       "      <th></th>\n",
       "      <th>Created Date</th>\n",
       "      <th>Closed Date</th>\n",
       "      <th>Location Type</th>\n",
       "      <th>Incident Zip</th>\n",
       "      <th>City</th>\n",
       "      <th>Borough</th>\n",
       "      <th>Latitude</th>\n",
       "      <th>Longitude</th>\n",
       "    </tr>\n",
       "  </thead>\n",
       "  <tbody>\n",
       "    <tr>\n",
       "      <th>99994</th>\n",
       "      <td>2016-06-24 00:25:55</td>\n",
       "      <td>2016-06-24 08:18:03</td>\n",
       "      <td>Residential Building/House</td>\n",
       "      <td>11226.0</td>\n",
       "      <td>BROOKLYN</td>\n",
       "      <td>BROOKLYN</td>\n",
       "      <td>40.646233</td>\n",
       "      <td>-73.958880</td>\n",
       "    </tr>\n",
       "    <tr>\n",
       "      <th>99995</th>\n",
       "      <td>2016-06-24 00:30:07</td>\n",
       "      <td>2016-06-24 01:35:26</td>\n",
       "      <td>Street/Sidewalk</td>\n",
       "      <td>11233.0</td>\n",
       "      <td>BROOKLYN</td>\n",
       "      <td>BROOKLYN</td>\n",
       "      <td>40.676121</td>\n",
       "      <td>-73.921837</td>\n",
       "    </tr>\n",
       "    <tr>\n",
       "      <th>99996</th>\n",
       "      <td>2016-06-24 00:30:59</td>\n",
       "      <td>2016-07-01 17:56:08</td>\n",
       "      <td>Street/Sidewalk</td>\n",
       "      <td>10456.0</td>\n",
       "      <td>BRONX</td>\n",
       "      <td>BRONX</td>\n",
       "      <td>40.834894</td>\n",
       "      <td>-73.911734</td>\n",
       "    </tr>\n",
       "    <tr>\n",
       "      <th>99997</th>\n",
       "      <td>2016-06-24 00:34:57</td>\n",
       "      <td>2016-06-24 09:35:07</td>\n",
       "      <td>Residential Building/House</td>\n",
       "      <td>10030.0</td>\n",
       "      <td>NEW YORK</td>\n",
       "      <td>MANHATTAN</td>\n",
       "      <td>40.820511</td>\n",
       "      <td>-73.939887</td>\n",
       "    </tr>\n",
       "    <tr>\n",
       "      <th>99998</th>\n",
       "      <td>2016-06-24 00:35:59</td>\n",
       "      <td>2016-06-24 01:43:53</td>\n",
       "      <td>Street/Sidewalk</td>\n",
       "      <td>11237.0</td>\n",
       "      <td>BROOKLYN</td>\n",
       "      <td>BROOKLYN</td>\n",
       "      <td>40.699494</td>\n",
       "      <td>-73.913399</td>\n",
       "    </tr>\n",
       "  </tbody>\n",
       "</table>\n",
       "</div>"
      ],
      "text/plain": [
       "              Created Date          Closed Date               Location Type  \\\n",
       "99994  2016-06-24 00:25:55  2016-06-24 08:18:03  Residential Building/House   \n",
       "99995  2016-06-24 00:30:07  2016-06-24 01:35:26             Street/Sidewalk   \n",
       "99996  2016-06-24 00:30:59  2016-07-01 17:56:08             Street/Sidewalk   \n",
       "99997  2016-06-24 00:34:57  2016-06-24 09:35:07  Residential Building/House   \n",
       "99998  2016-06-24 00:35:59  2016-06-24 01:43:53             Street/Sidewalk   \n",
       "\n",
       "       Incident Zip      City    Borough   Latitude  Longitude  \n",
       "99994       11226.0  BROOKLYN   BROOKLYN  40.646233 -73.958880  \n",
       "99995       11233.0  BROOKLYN   BROOKLYN  40.676121 -73.921837  \n",
       "99996       10456.0     BRONX      BRONX  40.834894 -73.911734  \n",
       "99997       10030.0  NEW YORK  MANHATTAN  40.820511 -73.939887  \n",
       "99998       11237.0  BROOKLYN   BROOKLYN  40.699494 -73.913399  "
      ]
     },
     "execution_count": 28,
     "metadata": {},
     "output_type": "execute_result"
    }
   ],
   "source": [
    "df.tail()"
   ]
  },
  {
   "cell_type": "code",
   "execution_count": 31,
   "metadata": {
    "colab": {
     "base_uri": "https://localhost:8080/",
     "height": 68
    },
    "colab_type": "code",
    "id": "qolWXEMoqrai",
    "outputId": "ed912a0c-81b2-40cd-c4ea-5e60f4e9a167"
   },
   "outputs": [
    {
     "name": "stdout",
     "output_type": "stream",
     "text": [
      "99999\n",
      "(99999, 8)\n",
      "99999\n",
      "       Incident Zip      Latitude     Longitude\n",
      "count  99556.000000  99396.000000  99396.000000\n",
      "mean   10695.754580     40.751829    -73.926525\n",
      "std      589.740286      0.081419      0.061718\n",
      "min       83.000000     40.500737    -74.251277\n",
      "25%    10034.000000     40.686351    -73.958878\n",
      "50%    10468.000000     40.742983    -73.930774\n",
      "75%    11224.000000     40.829866    -73.896589\n",
      "max    11694.000000     40.911189    -73.705673\n",
      "<class 'pandas.core.frame.DataFrame'>\n",
      "RangeIndex: 99999 entries, 0 to 99998\n",
      "Data columns (total 8 columns):\n",
      "Created Date     99999 non-null object\n",
      "Closed Date      99652 non-null object\n",
      "Location Type    99999 non-null object\n",
      "Incident Zip     99556 non-null float64\n",
      "City             99556 non-null object\n",
      "Borough          99999 non-null object\n",
      "Latitude         99396 non-null float64\n",
      "Longitude        99396 non-null float64\n",
      "dtypes: float64(3), object(5)\n",
      "memory usage: 6.1+ MB\n",
      "None\n"
     ]
    }
   ],
   "source": [
    "print(len(df))\n",
    "print(df.shape)\n",
    "print(df.shape[0])\n",
    "print(df.describe())\n",
    "print(df.info())"
   ]
  },
  {
   "cell_type": "code",
   "execution_count": 32,
   "metadata": {
    "colab": {
     "base_uri": "https://localhost:8080/",
     "height": 153
    },
    "colab_type": "code",
    "id": "rxdobnxsANjn",
    "outputId": "a1a28c0f-3526-48ac-d18f-3d0b61b78fee"
   },
   "outputs": [
    {
     "name": "stdout",
     "output_type": "stream",
     "text": [
      "             Created Date          Closed Date    Location Type  Incident Zip  \\\n",
      "166   2015-12-31 10:18:33  2015-12-31 10:55:03  Park/Playground       11214.0   \n",
      "221   2015-12-31 14:54:13  2015-12-31 15:02:56  Park/Playground       10005.0   \n",
      "1949  2016-01-02 11:58:20  2016-01-02 16:12:51  Park/Playground       10021.0   \n",
      "2842  2016-01-03 17:51:05  2016-01-04 02:16:32  Park/Playground       10003.0   \n",
      "2878  2016-01-03 20:12:50  2016-01-04 02:16:41  Park/Playground       11385.0   \n",
      "\n",
      "           City    Borough   Latitude  Longitude  \n",
      "166    BROOKLYN   BROOKLYN  40.609666 -73.999741  \n",
      "221    NEW YORK  MANHATTAN  40.709155 -74.010543  \n",
      "1949   NEW YORK  MANHATTAN  40.774725 -73.965379  \n",
      "2842   NEW YORK  MANHATTAN  40.730924 -73.995966  \n",
      "2878  RIDGEWOOD     QUEENS  40.704807 -73.904476  \n"
     ]
    }
   ],
   "source": [
    "selection = df[df['Location Type'] == 'Park/Playground']\n",
    "print(selection.head())"
   ]
  },
  {
   "cell_type": "code",
   "execution_count": null,
   "metadata": {
    "colab": {
     "base_uri": "https://localhost:8080/",
     "height": 153
    },
    "colab_type": "code",
    "id": "GEVTKeYjqsRI",
    "outputId": "84612959-f78a-4437-a4ba-59cf73acefa4"
   },
   "outputs": [],
   "source": [
    "queens = df[df['Borough'] == 'QUEENS']\n",
    "print(queens.head())"
   ]
  },
  {
   "cell_type": "code",
   "execution_count": null,
   "metadata": {
    "colab": {
     "base_uri": "https://localhost:8080/",
     "height": 34
    },
    "colab_type": "code",
    "id": "N7We4kVDA5ej",
    "outputId": "d87a9452-263f-41d0-a263-1829a303bfe7"
   },
   "outputs": [],
   "source": [
    "# Exercise: Create a selection of data points from Manhattan and look\n",
    "# at the size of both selections to see whether they are different or equal\n"
   ]
  },
  {
   "cell_type": "markdown",
   "metadata": {
    "colab_type": "text",
    "id": "KFpSxf_ioEBE"
   },
   "source": [
    "## A picture says more than thousand words"
   ]
  },
  {
   "cell_type": "code",
   "execution_count": 33,
   "metadata": {
    "colab": {
     "base_uri": "https://localhost:8080/",
     "height": 269
    },
    "colab_type": "code",
    "id": "GBw-DEjfrBlo",
    "outputId": "5aad076b-571a-46a6-f378-56710159196d"
   },
   "outputs": [
    {
     "data": {
      "image/png": "[encoded data removed]",
      "text/plain": [
       "<Figure size 432x288 with 1 Axes>"
      ]
     },
     "metadata": {
      "needs_background": "light"
     },
     "output_type": "display_data"
    }
   ],
   "source": [
    "import matplotlib.pyplot as plt\n",
    "df['Location Type'].hist()\n",
    "plt.show()"
   ]
  },
  {
   "cell_type": "code",
   "execution_count": 35,
   "metadata": {
    "colab": {
     "base_uri": "https://localhost:8080/",
     "height": 573
    },
    "colab_type": "code",
    "id": "-5gXAN2sl0Kh",
    "outputId": "09f08133-91c2-4581-e5d8-fd06bc418ed5"
   },
   "outputs": [
    {
     "data": {
      "image/png": "[encoded data removed]",
      "text/plain": [
       "<Figure size 1008x432 with 1 Axes>"
      ]
     },
     "metadata": {},
     "output_type": "display_data"
    }
   ],
   "source": [
    "plt.style.use('seaborn-whitegrid')\n",
    "df[\"Location Type\"].value_counts(ascending=False).plot(kind=\"bar\",figsize=(14,6), title=\"Number of calls by Location\")\n",
    "plt.show()"
   ]
  },
  {
   "cell_type": "code",
   "execution_count": null,
   "metadata": {
    "colab": {
     "base_uri": "https://localhost:8080/",
     "height": 282
    },
    "colab_type": "code",
    "id": "2xbSIW-TGCB_",
    "outputId": "8cb85745-e586-4b3e-b20d-e62c609be99b"
   },
   "outputs": [],
   "source": [
    "# Exercise: This exercise was a bit more useful with the first dataset we had,\n",
    "# but just for practice sake: remember the district data we selected? Now it's\n",
    "# time to use it. Below, show two latitude histograms in one plot, one for\n",
    "# Manhattan and one for Queens. Tip: the parameter alpha=0.X can be used\n",
    "# throughout several plotting commands to make the lines/areas more transparent,\n",
    "# this way, overlaps are better visible\n"
   ]
  },
  {
   "cell_type": "code",
   "execution_count": 36,
   "metadata": {
    "colab": {
     "base_uri": "https://localhost:8080/",
     "height": 52
    },
    "colab_type": "code",
    "id": "Lr5olfRGrbVr",
    "outputId": "725659e8-d162-48c9-90c4-f7053112c754"
   },
   "outputs": [],
   "source": [
    "dates_created = pd.to_datetime([date for date in df[\"Created Date\"]])#\n",
    "minutes = dates_created.minute"
   ]
  },
  {
   "cell_type": "code",
   "execution_count": 38,
   "metadata": {},
   "outputs": [
    {
     "data": {
      "text/plain": [
       "Int64Index([1, 2, 3, 3, 5, 8, 11, 12, 12, 14], dtype='int64')"
      ]
     },
     "execution_count": 38,
     "metadata": {},
     "output_type": "execute_result"
    }
   ],
   "source": [
    "minutes[0:10]"
   ]
  },
  {
   "cell_type": "code",
   "execution_count": 39,
   "metadata": {
    "colab": {
     "base_uri": "https://localhost:8080/",
     "height": 442
    },
    "colab_type": "code",
    "id": "Q7wBEq0xrjfI",
    "outputId": "5971279a-0cc8-4702-c255-3f8cc06d65c2"
   },
   "outputs": [
    {
     "data": {
      "image/png": "[encoded data removed]",
      "text/plain": [
       "<Figure size 1008x432 with 1 Axes>"
      ]
     },
     "metadata": {},
     "output_type": "display_data"
    }
   ],
   "source": [
    "#Exercise: can you find out what variable needs to be from the rest of the code?\n",
    "variable = dates_created.hour\n",
    "\n",
    "variable.value_counts(sort=False).plot(figsize=(14,6), title=\"Number of calls by hour\")\n",
    "plt.ylabel(\"# of calls\")\n",
    "\n",
    "days_names = ['Night','Morning','Midday','Afternoon','Evening']\n",
    "days_numbers = [2.5,9,12,16,20]\n",
    "plt.xticks(days_numbers, days_names, rotation='45')\n",
    "plt.show()"
   ]
  },
  {
   "cell_type": "markdown",
   "metadata": {
    "colab": {},
    "colab_type": "code",
    "id": "98lTQF6jHGXM"
   },
   "source": [
    "## Extra hints"
   ]
  },
  {
   "cell_type": "markdown",
   "metadata": {},
   "source": [
    "### Datastructures\n",
    "Next to list, two common datastructures are dictionaries and tuples. Dictionaries could be defined as a list where every entry is a pair of the name of the entry and its content (key, value). Dictionaries do not have an order and cannot be indexed therefore. Below you can see an example of a dict with dicts as contents (a nested dict).\n",
    "```\n",
    "my_dict = {\"party1\": {\"time\": 19:00, \"place\":Manhattan}, \"party2\": {\"time\": 21:30, \"place\":Queens}}\n",
    "```\n",
    "Tuples are combination of entries between round brackets, for example a coordinate could be stored inside a tuple ` t = (10,207)`. Tuples are ordered and can be indexed."
   ]
  },
  {
   "cell_type": "markdown",
   "metadata": {},
   "source": [
    "### Helpful libraries\n",
    "For maths and easy data handling of all numeric data, including matric multiplication and such, use numpy (often abbreviated np).\n",
    "There are a lot of classic machine learning algorithms (regression, clustering, SVM, etc.) in the scikit-learn library (called scipy in python files).\n",
    "If you want to dive into deep learning, the top-level go-to library would be Keras (with tensorflow as backend). Tensorflow itself is in the opinion of the author of this notebook a bit more complicated than necessary. PyTorch is a worthy competitor in terms of a lower-level library, which is more easily adaptable. These three have huge communities and ressources."
   ]
  },
  {
   "cell_type": "markdown",
   "metadata": {},
   "source": [
    "### Storage\n",
    "If you want to store something, you can look a the pandas methods for that. This site has a list of (general) storage formats https://exceptionshub.com/how-to-store-a-dataframe-using-pandas.html and some minimal examples."
   ]
  },
  {
   "cell_type": "markdown",
   "metadata": {},
   "source": [
    "### Running python outside of a notebook\n",
    "Your python code may not always come in a notebook. For running .py files, there are some things to keep in mind. Call them with `python my_file.py`. This will execute all content in the file that is not a method or class. This way, you can first define your methods and later write the actually commands you want to have executed below. It also means you will not execute anything if you only have methods and classes. Why you would want to do that? Maybe you have a lot of methods and want to sort them under their functionality, e.g. number_methods.py, image_methods.py, my_script.py (for the execution). Make sure you import the two utility files in my_script.py and call `python my_script.py`."
   ]
  },
  {
   "cell_type": "markdown",
   "metadata": {},
   "source": [
    "### A propos classes\n",
    "You can have classes, but you don't have to. Here are some minimal examples https://www.w3schools.com/python/python_classes.asp"
   ]
  },
  {
   "cell_type": "code",
   "execution_count": null,
   "metadata": {},
   "outputs": [],
   "source": []
  }
 ],
 "metadata": {
  "colab": {
   "collapsed_sections": [],
   "name": "Python 101.ipynb",
   "provenance": []
  },
  "kernelspec": {
   "display_name": "Python 3",
   "language": "python",
   "name": "python3"
  },
  "language_info": {
   "codemirror_mode": {
    "name": "ipython",
    "version": 3
   },
   "file_extension": ".py",
   "mimetype": "text/x-python",
   "name": "python",
   "nbconvert_exporter": "python",
   "pygments_lexer": "ipython3",
   "version": "3.7.5"
  },
  "varInspector": {
   "cols": {
    "lenName": 16,
    "lenType": 16,
    "lenVar": 40
   },
   "kernels_config": {
    "python": {
     "delete_cmd_postfix": "",
     "delete_cmd_prefix": "del ",
     "library": "var_list.py",
     "varRefreshCmd": "print(var_dic_list())"
    },
    "r": {
     "delete_cmd_postfix": ") ",
     "delete_cmd_prefix": "rm(",
     "library": "var_list.r",
     "varRefreshCmd": "cat(var_dic_list()) "
    }
   },
   "types_to_exclude": [
    "module",
    "function",
    "builtin_function_or_method",
    "instance",
    "_Feature"
   ],
   "window_display": false
  }
 },
 "nbformat": 4,
 "nbformat_minor": 1
}
